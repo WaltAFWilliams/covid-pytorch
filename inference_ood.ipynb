{
 "cells": [
  {
   "cell_type": "code",
   "execution_count": 1,
   "id": "seasonal-working",
   "metadata": {},
   "outputs": [],
   "source": [
    "import numpy as np, pandas as pd\n",
    "import torch\n",
    "import torchvision\n",
    "from torch.utils.data import Dataset, DataLoader\n",
    "from torchvision.transforms import *\n",
    "import cv2 as cv\n",
    "from sklearn.metrics import classification_report"
   ]
  },
  {
   "cell_type": "code",
   "execution_count": 2,
   "id": "colonial-plain",
   "metadata": {
    "tags": []
   },
   "outputs": [
    {
     "data": {
      "text/html": [
       "<div>\n",
       "<style scoped>\n",
       "    .dataframe tbody tr th:only-of-type {\n",
       "        vertical-align: middle;\n",
       "    }\n",
       "\n",
       "    .dataframe tbody tr th {\n",
       "        vertical-align: top;\n",
       "    }\n",
       "\n",
       "    .dataframe thead th {\n",
       "        text-align: right;\n",
       "    }\n",
       "</style>\n",
       "<table border=\"1\" class=\"dataframe\">\n",
       "  <thead>\n",
       "    <tr style=\"text-align: right;\">\n",
       "      <th></th>\n",
       "      <th>finding</th>\n",
       "      <th>filename</th>\n",
       "    </tr>\n",
       "  </thead>\n",
       "  <tbody>\n",
       "    <tr>\n",
       "      <th>0</th>\n",
       "      <td>Pneumonia/Viral/COVID-19</td>\n",
       "      <td>test_images/auntminnie-a-2020_01_28_23_51_6665...</td>\n",
       "    </tr>\n",
       "    <tr>\n",
       "      <th>1</th>\n",
       "      <td>Pneumonia/Viral/COVID-19</td>\n",
       "      <td>test_images/auntminnie-b-2020_01_28_23_51_6665...</td>\n",
       "    </tr>\n",
       "    <tr>\n",
       "      <th>2</th>\n",
       "      <td>Pneumonia/Viral/COVID-19</td>\n",
       "      <td>test_images/auntminnie-c-2020_01_28_23_51_6665...</td>\n",
       "    </tr>\n",
       "    <tr>\n",
       "      <th>3</th>\n",
       "      <td>Pneumonia/Viral/COVID-19</td>\n",
       "      <td>test_images/auntminnie-d-2020_01_28_23_51_6665...</td>\n",
       "    </tr>\n",
       "    <tr>\n",
       "      <th>4</th>\n",
       "      <td>Pneumonia/Viral/COVID-19</td>\n",
       "      <td>test_images/nejmc2001573_f1a.jpeg</td>\n",
       "    </tr>\n",
       "  </tbody>\n",
       "</table>\n",
       "</div>"
      ],
      "text/plain": [
       "                    finding                                           filename\n",
       "0  Pneumonia/Viral/COVID-19  test_images/auntminnie-a-2020_01_28_23_51_6665...\n",
       "1  Pneumonia/Viral/COVID-19  test_images/auntminnie-b-2020_01_28_23_51_6665...\n",
       "2  Pneumonia/Viral/COVID-19  test_images/auntminnie-c-2020_01_28_23_51_6665...\n",
       "3  Pneumonia/Viral/COVID-19  test_images/auntminnie-d-2020_01_28_23_51_6665...\n",
       "4  Pneumonia/Viral/COVID-19                  test_images/nejmc2001573_f1a.jpeg"
      ]
     },
     "execution_count": 2,
     "metadata": {},
     "output_type": "execute_result"
    }
   ],
   "source": [
    "df = pd.read_csv('test_labels.csv')\n",
    "# only keep finding and file name\n",
    "df = df[['finding', 'filename']]\n",
    "df = df[df.finding == 'Pneumonia/Viral/COVID-19'] # only keep covid images\n",
    "df['filename'] = df['filename'].apply(lambda x: 'test_images/' + x)\n",
    "df = df.dropna()\n",
    "df.head()"
   ]
  },
  {
   "cell_type": "code",
   "execution_count": 9,
   "id": "interesting-poverty",
   "metadata": {},
   "outputs": [
    {
     "data": {
      "text/plain": [
       "Pneumonia/Viral/COVID-19                   584\n",
       "todo                                        83\n",
       "Pneumonia                                   81\n",
       "Pneumonia/Fungal/Pneumocystis               30\n",
       "No Finding                                  22\n",
       "Pneumonia/Bacterial/Streptococcus           22\n",
       "Tuberculosis                                18\n",
       "Pneumonia/Viral/SARS                        16\n",
       "Pneumonia/Lipoid                            13\n",
       "Pneumonia/Bacterial/Mycoplasma              11\n",
       "Pneumonia/Viral/MERS-CoV                    10\n",
       "Pneumonia/Bacterial/Klebsiella              10\n",
       "Pneumonia/Bacterial/Legionella              10\n",
       "Pneumonia/Bacterial/Nocardia                 8\n",
       "Pneumonia/Viral/Varicella                    6\n",
       "Pneumonia/Viral/Influenza                    5\n",
       "Pneumonia/Bacterial/E.Coli                   4\n",
       "Pneumonia/Bacterial                          4\n",
       "Pneumonia/Bacterial/Chlamydophila            3\n",
       "Pneumonia/Viral/Herpes                       3\n",
       "Pneumonia/Viral/Influenza/H1N1               2\n",
       "Pneumonia/Fungal/Aspergillosis               2\n",
       "Unknown                                      1\n",
       "Pneumonia/Bacterial/Staphylococcus/MRSA      1\n",
       "Pneumonia/Aspiration                         1\n",
       "Name: finding, dtype: int64"
      ]
     },
     "execution_count": 9,
     "metadata": {},
     "output_type": "execute_result"
    }
   ],
   "source": [
    "pd.read_csv('test_labels.csv').finding.value_counts()"
   ]
  },
  {
   "cell_type": "code",
   "execution_count": 3,
   "id": "demographic-editing",
   "metadata": {},
   "outputs": [],
   "source": [
    "# Create dataset\n",
    "class TestData(Dataset):\n",
    "    def __init__(self, imgs, T):\n",
    "        super().__init__()\n",
    "        self.imgs = imgs\n",
    "        self.transforms = T\n",
    "    \n",
    "    def __len__(self):\n",
    "        return len(self.imgs)\n",
    "    \n",
    "    def __getitem__(self, idx):\n",
    "        path = self.imgs[idx]\n",
    "        img = cv.cvtColor(cv.imread(path), cv.COLOR_BGR2RGB) / 255.\n",
    "        img = self.transforms(img)\n",
    "        return img.to('cuda')"
   ]
  },
  {
   "cell_type": "code",
   "execution_count": 4,
   "id": "employed-prime",
   "metadata": {},
   "outputs": [],
   "source": [
    "T = Compose([\n",
    "    ToTensor(),\n",
    "    Resize((224,224))\n",
    "])\n",
    "\n",
    "# Drop bad paths from the dataset\n",
    "bad_paths = []\n",
    "for path in df.filename.values:\n",
    "    r = cv.imread(path)\n",
    "    if r is None:\n",
    "        bad_paths.append(path)\n",
    "        \n",
    "df = df.drop(df.index[df['filename'].isin(bad_paths)])\n",
    "paths = df.filename.values\n",
    "test_ds = TestData(paths, T)\n",
    "test_loader = DataLoader(test_ds, batch_size=10)\n",
    "model = torch.load('mNet_v2')\n",
    "criterion = torch.nn.CrossEntropyLoss()"
   ]
  },
  {
   "cell_type": "code",
   "execution_count": 5,
   "id": "disciplinary-trouble",
   "metadata": {},
   "outputs": [],
   "source": [
    "def evaluate(model, dataloader, criterion):\n",
    "    model.eval()\n",
    "    P = torch.Tensor()\n",
    "    \n",
    "    for i, (imgs) in enumerate(dataloader):\n",
    "        imgs = imgs.float().to('cuda')\n",
    "        \n",
    "        with torch.no_grad():\n",
    "            output = model(imgs)        \n",
    "        \n",
    "        _, preds = torch.max(output, 1)\n",
    "        P = torch.cat([P.to('cuda'), preds], dim=0)\n",
    "    \n",
    "    \n",
    "    return P.cpu().numpy()"
   ]
  },
  {
   "cell_type": "code",
   "execution_count": 6,
   "id": "steady-classification",
   "metadata": {
    "tags": []
   },
   "outputs": [],
   "source": [
    "preds = evaluate(model, test_loader, criterion)"
   ]
  },
  {
   "cell_type": "code",
   "execution_count": 7,
   "id": "inappropriate-ranking",
   "metadata": {
    "tags": []
   },
   "outputs": [
    {
     "name": "stdout",
     "output_type": "stream",
     "text": [
      "              precision    recall  f1-score   support\n",
      "\n",
      "         0.0       1.00      0.02      0.04       563\n",
      "         1.0       0.00      0.00      0.00         0\n",
      "         3.0       0.00      0.00      0.00         0\n",
      "\n",
      "    accuracy                           0.02       563\n",
      "   macro avg       0.33      0.01      0.01       563\n",
      "weighted avg       1.00      0.02      0.04       563\n",
      "\n"
     ]
    },
    {
     "name": "stderr",
     "output_type": "stream",
     "text": [
      "/home/walt/learn/lib/python3.8/site-packages/sklearn/metrics/_classification.py:1245: UndefinedMetricWarning: Recall and F-score are ill-defined and being set to 0.0 in labels with no true samples. Use `zero_division` parameter to control this behavior.\n",
      "  _warn_prf(average, modifier, msg_start, len(result))\n",
      "/home/walt/learn/lib/python3.8/site-packages/sklearn/metrics/_classification.py:1245: UndefinedMetricWarning: Recall and F-score are ill-defined and being set to 0.0 in labels with no true samples. Use `zero_division` parameter to control this behavior.\n",
      "  _warn_prf(average, modifier, msg_start, len(result))\n",
      "/home/walt/learn/lib/python3.8/site-packages/sklearn/metrics/_classification.py:1245: UndefinedMetricWarning: Recall and F-score are ill-defined and being set to 0.0 in labels with no true samples. Use `zero_division` parameter to control this behavior.\n",
      "  _warn_prf(average, modifier, msg_start, len(result))\n"
     ]
    }
   ],
   "source": [
    "print(classification_report(np.zeros(len(preds)), preds))"
   ]
  },
  {
   "cell_type": "code",
   "execution_count": null,
   "id": "appreciated-career",
   "metadata": {},
   "outputs": [],
   "source": []
  }
 ],
 "metadata": {
  "kernelspec": {
   "display_name": "Python 3",
   "language": "python",
   "name": "python3"
  },
  "language_info": {
   "codemirror_mode": {
    "name": "ipython",
    "version": 3
   },
   "file_extension": ".py",
   "mimetype": "text/x-python",
   "name": "python",
   "nbconvert_exporter": "python",
   "pygments_lexer": "ipython3",
   "version": "3.8.5"
  }
 },
 "nbformat": 4,
 "nbformat_minor": 5
}
