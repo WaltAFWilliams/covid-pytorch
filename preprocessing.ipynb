{
 "cells": [
  {
   "cell_type": "code",
   "execution_count": 1,
   "id": "postal-roads",
   "metadata": {},
   "outputs": [],
   "source": [
    "import numpy as np\n",
    "import pandas as pd"
   ]
  },
  {
   "cell_type": "code",
   "execution_count": 1,
   "id": "double-copying",
   "metadata": {},
   "outputs": [],
   "source": [
    "# Change paths to absolute paths\n",
    "# Add labels to each image\n",
    "# Remove unnecessary columns\n",
    "# Combine dataframes"
   ]
  },
  {
   "cell_type": "code",
   "execution_count": 3,
   "id": "lucky-chemical",
   "metadata": {},
   "outputs": [],
   "source": [
    "norm_df = pd.read_excel('Normal.metadata.xlsx')\n",
    "lung_opacity_df = pd.read_excel('Lung_Opacity.metadata.xlsx')\n",
    "covid_df = pd.read_excel('COVID.metadata.xlsx')\n",
    "pneumonia_df = pd.read_excel('Viral Pneumonia.metadata.xlsx')\n",
    "dfs = [norm_df, covid_df, pneumonia_df, lung_opacity_df]\n",
    "\n",
    "# Normal df names need to be uncapitalized\n",
    "norm_df['FILE NAME'] = norm_df['FILE NAME'].apply(lambda name: name.capitalize())"
   ]
  },
  {
   "cell_type": "code",
   "execution_count": 4,
   "id": "theoretical-scholarship",
   "metadata": {},
   "outputs": [],
   "source": [
    "# Change image names to absolute paths\n",
    "norm_df['FILE NAME'] = norm_df['FILE NAME'].apply(lambda name: '/home/walt/ml/COVID-19_Radiography_Dataset/Normal/' + name + '.png')\n",
    "lung_opacity_df['FILE NAME'] = lung_opacity_df['FILE NAME'].apply(lambda name: '/home/walt/ml/COVID-19_Radiography_Dataset/Lung_Opacity/' + name + '.png')\n",
    "covid_df['FILE NAME'] = covid_df['FILE NAME'].apply(lambda name: '/home/walt/ml/COVID-19_Radiography_Dataset/COVID/' + name + '.png')\n",
    "pneumonia_df['FILE NAME'] = pneumonia_df['FILE NAME'].apply(lambda name: '/home/walt/ml/COVID-19_Radiography_Dataset/Viral Pneumonia/' + name + '.png')"
   ]
  },
  {
   "cell_type": "code",
   "execution_count": 5,
   "id": "aggregate-contract",
   "metadata": {},
   "outputs": [],
   "source": [
    "# Remove unnecessary columns\n",
    "for n in range(4):\n",
    "    dfs[n].drop(['URL', 'FORMAT', 'SIZE'], axis=1, inplace=True)"
   ]
  },
  {
   "cell_type": "code",
   "execution_count": 6,
   "id": "differential-settlement",
   "metadata": {},
   "outputs": [],
   "source": [
    "# Add labels\n",
    "norm_df['label'] = pd.Series(np.zeros_like(norm_df['FILE NAME'].values))\n",
    "lung_opacity_df['label'] = pd.Series(np.ones_like(norm_df['FILE NAME'].values))\n",
    "pneumonia_df['label'] = pd.Series(np.array([2 for n in range(pneumonia_df.shape[0])]))\n",
    "covid_df['label'] = pd.Series(np.array([3 for n in range(covid_df.shape[0])]))"
   ]
  },
  {
   "cell_type": "code",
   "execution_count": 7,
   "id": "elder-checkout",
   "metadata": {},
   "outputs": [
    {
     "data": {
      "text/html": [
       "<div>\n",
       "<style scoped>\n",
       "    .dataframe tbody tr th:only-of-type {\n",
       "        vertical-align: middle;\n",
       "    }\n",
       "\n",
       "    .dataframe tbody tr th {\n",
       "        vertical-align: top;\n",
       "    }\n",
       "\n",
       "    .dataframe thead th {\n",
       "        text-align: right;\n",
       "    }\n",
       "</style>\n",
       "<table border=\"1\" class=\"dataframe\">\n",
       "  <thead>\n",
       "    <tr style=\"text-align: right;\">\n",
       "      <th></th>\n",
       "      <th>path</th>\n",
       "      <th>label</th>\n",
       "    </tr>\n",
       "  </thead>\n",
       "  <tbody>\n",
       "    <tr>\n",
       "      <th>0</th>\n",
       "      <td>/home/walt/ml/COVID-19_Radiography_Dataset/Nor...</td>\n",
       "      <td>0</td>\n",
       "    </tr>\n",
       "    <tr>\n",
       "      <th>1</th>\n",
       "      <td>/home/walt/ml/COVID-19_Radiography_Dataset/Nor...</td>\n",
       "      <td>0</td>\n",
       "    </tr>\n",
       "    <tr>\n",
       "      <th>2</th>\n",
       "      <td>/home/walt/ml/COVID-19_Radiography_Dataset/Lun...</td>\n",
       "      <td>1</td>\n",
       "    </tr>\n",
       "    <tr>\n",
       "      <th>3</th>\n",
       "      <td>/home/walt/ml/COVID-19_Radiography_Dataset/Lun...</td>\n",
       "      <td>1</td>\n",
       "    </tr>\n",
       "    <tr>\n",
       "      <th>4</th>\n",
       "      <td>/home/walt/ml/COVID-19_Radiography_Dataset/Vir...</td>\n",
       "      <td>2</td>\n",
       "    </tr>\n",
       "  </tbody>\n",
       "</table>\n",
       "</div>"
      ],
      "text/plain": [
       "                                                path label\n",
       "0  /home/walt/ml/COVID-19_Radiography_Dataset/Nor...     0\n",
       "1  /home/walt/ml/COVID-19_Radiography_Dataset/Nor...     0\n",
       "2  /home/walt/ml/COVID-19_Radiography_Dataset/Lun...     1\n",
       "3  /home/walt/ml/COVID-19_Radiography_Dataset/Lun...     1\n",
       "4  /home/walt/ml/COVID-19_Radiography_Dataset/Vir...     2"
      ]
     },
     "execution_count": 7,
     "metadata": {},
     "output_type": "execute_result"
    }
   ],
   "source": [
    "# Combining Dataframes\n",
    "df = pd.concat([norm_df, lung_opacity_df, pneumonia_df, covid_df], ignore_index=True).sample(frac=1)\n",
    "df.index = range(0, len(df))\n",
    "df.columns = ['path', 'label']"
   ]
  },
  {
   "cell_type": "code",
   "execution_count": 8,
   "id": "molecular-integral",
   "metadata": {},
   "outputs": [],
   "source": [
    "# Save dataframe\n",
    "df.to_csv('X_Ray_Data.csv', index=False)"
   ]
  }
 ],
 "metadata": {
  "kernelspec": {
   "display_name": "Python 3",
   "language": "python",
   "name": "python3"
  },
  "language_info": {
   "codemirror_mode": {
    "name": "ipython",
    "version": 3
   },
   "file_extension": ".py",
   "mimetype": "text/x-python",
   "name": "python",
   "nbconvert_exporter": "python",
   "pygments_lexer": "ipython3",
   "version": "3.8.5"
  }
 },
 "nbformat": 4,
 "nbformat_minor": 5
}
