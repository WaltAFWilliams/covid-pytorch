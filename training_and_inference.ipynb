{
 "cells": [
  {
   "cell_type": "markdown",
   "id": "previous-economy",
   "metadata": {},
   "source": [
    "* Create dataset\n",
    "* Import model and alter it for this problem\n",
    "* Create custom train and test function\n",
    "* Visualize performance"
   ]
  },
  {
   "cell_type": "markdown",
   "id": "numeric-platform",
   "metadata": {},
   "source": [
    "**Hyperparameter Tuning**\n",
    "* Methods to try:\n",
    "    * Data Augmentation\n",
    "    * Learning rate schedule\n",
    "    * Weighted Loss Function\n",
    "    * Focal Loss\n",
    "**Try cropping images to remove 'R' label from edge**"
   ]
  },
  {
   "cell_type": "code",
   "execution_count": 48,
   "id": "stylish-vessel",
   "metadata": {},
   "outputs": [],
   "source": [
    "import numpy as np, pandas as pd, matplotlib.pyplot\n",
    "import torch\n",
    "import torchvision\n",
    "from torchvision.models import mobilenet_v2\n",
    "from torch.utils.data import DataLoader, Dataset\n",
    "from torchvision import transforms\n",
    "import torch.nn as nn\n",
    "import cv2 as cv\n",
    "from sklearn.model_selection import train_test_split\n",
    "from sklearn.metrics import classification_report, confusion_matrix"
   ]
  },
  {
   "cell_type": "code",
   "execution_count": 49,
   "id": "alert-profile",
   "metadata": {},
   "outputs": [],
   "source": [
    "# Hyperparameters\n",
    "class cfg:\n",
    "    IMG_SIZE = 224\n",
    "    BATCH = 64\n",
    "    EPOCHS = 10\n",
    "    device = 'cuda' if torch.cuda.is_available() else 'cpu'"
   ]
  },
  {
   "cell_type": "code",
   "execution_count": 50,
   "id": "prostate-engine",
   "metadata": {},
   "outputs": [],
   "source": [
    "# Dataset\n",
    "class X_Ray_Dataset(Dataset):\n",
    "    def __init__(self, paths, labels, transforms=None):\n",
    "        super().__init__()\n",
    "        self.paths = paths\n",
    "        self.labels = labels\n",
    "        self.transforms = transforms\n",
    "        \n",
    "    def __len__(self):\n",
    "        return len(self.paths)\n",
    "    \n",
    "    def __getitem__(self, idx):\n",
    "        # get path\n",
    "        # read and preprocess image\n",
    "        # return img along with label (maybe with tranformations)\n",
    "        path, label = self.paths[idx], self.labels[idx]\n",
    "        img = torchvision.io.read_image(path, torchvision.io.image.ImageReadMode.RGB) / 255.\n",
    "#         img = cv.cvtColor(cv.imread(path, 0), cv.COLOR_BGR2RGB) / 255.\n",
    "#         img = cv.resize(img, (cfg.IMG_SIZE, cfg.IMG_SIZE))\n",
    "        \n",
    "        if self.transforms:\n",
    "            img = self.transforms(img)\n",
    "        \n",
    "        return (img, label)"
   ]
  },
  {
   "cell_type": "code",
   "execution_count": 1,
   "id": "comparable-clinton",
   "metadata": {},
   "outputs": [
    {
     "ename": "NameError",
     "evalue": "name 'transforms' is not defined",
     "output_type": "error",
     "traceback": [
      "\u001b[0;31m---------------------------------------------------------------------------\u001b[0m",
      "\u001b[0;31mNameError\u001b[0m                                 Traceback (most recent call last)",
      "\u001b[0;32m<ipython-input-1-c5e729a1489e>\u001b[0m in \u001b[0;36m<module>\u001b[0;34m\u001b[0m\n\u001b[0;32m----> 1\u001b[0;31m train_augs = transforms.Compose([\n\u001b[0m\u001b[1;32m      2\u001b[0m     \u001b[0mtransforms\u001b[0m\u001b[0;34m.\u001b[0m\u001b[0mResize\u001b[0m\u001b[0;34m(\u001b[0m\u001b[0;34m[\u001b[0m\u001b[0mcfg\u001b[0m\u001b[0;34m.\u001b[0m\u001b[0mIMG_SIZE\u001b[0m\u001b[0;34m,\u001b[0m \u001b[0mcfg\u001b[0m\u001b[0;34m.\u001b[0m\u001b[0mIMG_SIZE\u001b[0m\u001b[0;34m]\u001b[0m\u001b[0;34m)\u001b[0m\u001b[0;34m,\u001b[0m\u001b[0;34m\u001b[0m\u001b[0;34m\u001b[0m\u001b[0m\n\u001b[1;32m      3\u001b[0m     \u001b[0mtransforms\u001b[0m\u001b[0;34m.\u001b[0m\u001b[0mRandomRotation\u001b[0m\u001b[0;34m(\u001b[0m\u001b[0mdegrees\u001b[0m\u001b[0;34m=\u001b[0m\u001b[0;36m359\u001b[0m\u001b[0;34m)\u001b[0m\u001b[0;34m,\u001b[0m\u001b[0;34m\u001b[0m\u001b[0;34m\u001b[0m\u001b[0m\n\u001b[1;32m      4\u001b[0m     \u001b[0mtransforms\u001b[0m\u001b[0;34m.\u001b[0m\u001b[0mRandomVerticalFlip\u001b[0m\u001b[0;34m(\u001b[0m\u001b[0mp\u001b[0m\u001b[0;34m=\u001b[0m\u001b[0;36m0.7\u001b[0m\u001b[0;34m)\u001b[0m\u001b[0;34m,\u001b[0m\u001b[0;34m\u001b[0m\u001b[0;34m\u001b[0m\u001b[0m\n\u001b[1;32m      5\u001b[0m \u001b[0;31m#     transforms.RandomAutocontrast()\u001b[0m\u001b[0;34m\u001b[0m\u001b[0;34m\u001b[0m\u001b[0;34m\u001b[0m\u001b[0m\n",
      "\u001b[0;31mNameError\u001b[0m: name 'transforms' is not defined"
     ]
    }
   ],
   "source": [
    "train_augs = transforms.Compose([\n",
    "    transforms.Resize([cfg.IMG_SIZE, cfg.IMG_SIZE]),\n",
    "    transforms.RandomRotation(degrees=359),\n",
    "    transforms.RandomVerticalFlip(p=0.7),\n",
    "#     transforms.RandomAutocontrast()\n",
    "])\n",
    "\n",
    "test_augs = transforms.Compose([transforms.Resize([cfg.IMG_SIZE, cfg.IMG_SIZE])])\n",
    "df = pd.read_csv('X_Ray_Data.csv')\n",
    "train_paths, test_paths, train_labels, test_labels = train_test_split(df.path.values, df.label.values, test_size=0.2, random_state=0)\n",
    "\n",
    "train_ds = X_Ray_Dataset(train_paths, train_labels, transforms=train_augs)\n",
    "test_ds = X_Ray_Dataset(test_paths, test_labels, transforms=test_augs)\n",
    "\n",
    "train_loader = DataLoader(train_ds, shuffle=True, batch_size=cfg.BATCH)\n",
    "test_loader = DataLoader(test_ds, shuffle=False, batch_size=cfg.BATCH)"
   ]
  },
  {
   "cell_type": "code",
   "execution_count": 96,
   "id": "collected-equipment",
   "metadata": {},
   "outputs": [],
   "source": [
    "def fit(model, dataloader, opt, criterion, epochs):\n",
    "    # send imgs through network\n",
    "    # compute loss\n",
    "    # compute gradients and update weights\n",
    "    # print metrics\n",
    "    for epoch in range(epochs):\n",
    "        total_loss = 0.0\n",
    "        acc = 0\n",
    "        model.train()\n",
    "    \n",
    "        for i, (imgs, labels) in enumerate(dataloader):\n",
    "            imgs, labels = imgs.to(cfg.device), labels.to(cfg.device) # Place images onto gpu\n",
    "            output = model(imgs.float()) # Forward pass\n",
    "            loss = criterion(output, labels) # Calculate loss\n",
    "            opt.zero_grad() # Zero the previous gradients held by optimizer\n",
    "            loss.backward() # calculate new gradient of loss wrt current parameters\n",
    "            opt.step() # Update model weights\n",
    "            \n",
    "            total_loss += loss\n",
    "            _, preds = torch.max(output, 1)\n",
    "            correct = len(torch.where(preds==labels)[0])\n",
    "            acc += correct\n",
    "        \n",
    "        # print metrics\n",
    "        print(f'Epoch {epoch+1} | Loss: {total_loss/i+1} | Accuracy: {acc/len(dataloader)}')\n",
    "        \n",
    "def evaluate(model, dataloader, criterion):\n",
    "    model.eval()\n",
    "    total_loss = 0.0\n",
    "    acc = 0.0\n",
    "    P = torch.Tensor()\n",
    "    \n",
    "    for i, (imgs, labels) in enumerate(dataloader):\n",
    "        imgs, labels = imgs.float().to(cfg.device), labels.to(cfg.device)\n",
    "        \n",
    "        with torch.no_grad():\n",
    "            output = model(imgs)\n",
    "            loss = criterion(output, labels)\n",
    "        \n",
    "        _, preds = torch.max(output, 1)\n",
    "        P = torch.cat([P.to(cfg.device), preds], dim=0)\n",
    "        acc += len(torch.where(preds==labels)[0])\n",
    "        total_loss += loss\n",
    "    \n",
    "    print(f'Accuracy: {acc/len(dataloader):.1f}% | Loss: {total_loss/i+1:.3f}')\n",
    "    \n",
    "    return P.cpu().numpy()"
   ]
  },
  {
   "cell_type": "code",
   "execution_count": 57,
   "id": "separate-doctrine",
   "metadata": {},
   "outputs": [],
   "source": [
    "model = mobilenet_v2(pretrained=True)\n",
    "model.classifier[1] = nn.Linear(in_features=1280, out_features=4, bias=True)\n",
    "model.to(cfg.device)\n",
    "opt = torch.optim.Adam(model.parameters(), lr=.0001)\n",
    "criterion = nn.CrossEntropyLoss()"
   ]
  },
  {
   "cell_type": "code",
   "execution_count": 58,
   "id": "acting-voltage",
   "metadata": {
    "tags": []
   },
   "outputs": [
    {
     "name": "stdout",
     "output_type": "stream",
     "text": [
      "Epoch 1 | Loss: 0.4096754789352417 | Accuracy: 0.8513849431818182\n",
      "Epoch 2 | Loss: 0.2524297535419464 | Accuracy: 0.9103929924242424\n",
      "Epoch 3 | Loss: 0.22697879374027252 | Accuracy: 0.9212831439393939\n",
      "Epoch 4 | Loss: 0.198633074760437 | Accuracy: 0.9317589962121212\n",
      "Epoch 5 | Loss: 0.19276265799999237 | Accuracy: 0.9318773674242424\n",
      "Epoch 6 | Loss: 0.17544551193714142 | Accuracy: 0.9398082386363636\n",
      "Epoch 7 | Loss: 0.17425788938999176 | Accuracy: 0.9381510416666666\n",
      "Epoch 8 | Loss: 0.1672159880399704 | Accuracy: 0.9399266098484849\n",
      "Epoch 9 | Loss: 0.15397192537784576 | Accuracy: 0.9459635416666666\n",
      "Epoch 10 | Loss: 0.1499778777360916 | Accuracy: 0.9471472537878788\n"
     ]
    }
   ],
   "source": [
    "fit(model, train_loader, opt=opt, criterion=criterion, epochs=cfg.EPOCHS)"
   ]
  },
  {
   "cell_type": "code",
   "execution_count": 97,
   "id": "classical-brush",
   "metadata": {
    "tags": []
   },
   "outputs": [
    {
     "name": "stdout",
     "output_type": "stream",
     "text": [
      "Accuracy: 59.313 | Loss: 1.168\n",
      "              precision    recall  f1-score   support\n",
      "\n",
      "      normal       0.91      0.98      0.94      2039\n",
      "lung_opacity       0.98      0.84      0.91      1226\n",
      "   pneumonia       0.98      0.98      0.98       250\n",
      "    covid-19       0.97      0.96      0.97       718\n",
      "\n",
      "    accuracy                           0.94      4233\n",
      "   macro avg       0.96      0.94      0.95      4233\n",
      "weighted avg       0.94      0.94      0.94      4233\n",
      "\n"
     ]
    }
   ],
   "source": [
    "#model = torch.load('mobilenetV2').to('cuda')\n",
    "L = []\n",
    "for imgs, labels in test_loader:\n",
    "    L.extend(labels.cpu().numpy())\n",
    "\n",
    "preds = evaluate(model, test_loader, criterion)\n",
    "print(classification_report(np.array(L), preds, target_names=['normal', 'lung_opacity', 'pneumonia', 'covid-19']))"
   ]
  },
  {
   "cell_type": "code",
   "execution_count": 95,
   "id": "mighty-divorce",
   "metadata": {},
   "outputs": [
    {
     "data": {
      "text/plain": [
       "47"
      ]
     },
     "execution_count": 95,
     "metadata": {},
     "output_type": "execute_result"
    }
   ],
   "source": [
    "len(np.where(L[:50]==preds[:50])[0])"
   ]
  },
  {
   "cell_type": "code",
   "execution_count": 91,
   "id": "distinguished-dining",
   "metadata": {},
   "outputs": [
    {
     "data": {
      "text/plain": [
       "array([0., 3., 0., 0., 0., 1., 3., 0., 0., 3., 0., 1., 3., 0., 0., 0., 0.,\n",
       "       0., 3., 1.], dtype=float32)"
      ]
     },
     "execution_count": 91,
     "metadata": {},
     "output_type": "execute_result"
    }
   ],
   "source": [
    "preds[:20]"
   ]
  },
  {
   "cell_type": "code",
   "execution_count": null,
   "id": "dressed-cosmetic",
   "metadata": {},
   "outputs": [],
   "source": []
  }
 ],
 "metadata": {
  "kernelspec": {
   "display_name": "Python 3",
   "language": "python",
   "name": "python3"
  },
  "language_info": {
   "codemirror_mode": {
    "name": "ipython",
    "version": 3
   },
   "file_extension": ".py",
   "mimetype": "text/x-python",
   "name": "python",
   "nbconvert_exporter": "python",
   "pygments_lexer": "ipython3",
   "version": "3.8.5"
  }
 },
 "nbformat": 4,
 "nbformat_minor": 5
}
